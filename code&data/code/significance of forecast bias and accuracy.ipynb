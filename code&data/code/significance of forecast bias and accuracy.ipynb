{
 "cells": [
  {
   "cell_type": "code",
   "execution_count": 1,
   "metadata": {},
   "outputs": [],
   "source": [
    "import pandas as pd\n",
    "import statsmodels.api as sm"
   ]
  },
  {
   "source": [
    "计算每个model，每个earnings预测结果中， 预测公司数量，共12-15组"
   ],
   "cell_type": "markdown",
   "metadata": {}
  },
  {
   "cell_type": "code",
   "execution_count": 19,
   "metadata": {},
   "outputs": [
    {
     "output_type": "execute_result",
     "data": {
      "text/plain": [
       "10983"
      ]
     },
     "metadata": {},
     "execution_count": 19
    }
   ],
   "source": [
    "data1=pd.read_csv(\"EP_E1_sig.csv\")\n",
    "data1[\"conm_x\"].loc[(data1[\"shift\"]==\"E1\") & (data2[\"fyear\"] < 2010)].nunique()"
   ]
  },
  {
   "cell_type": "code",
   "execution_count": 9,
   "metadata": {},
   "outputs": [
    {
     "output_type": "execute_result",
     "data": {
      "text/plain": [
       "7572"
      ]
     },
     "metadata": {},
     "execution_count": 9
    }
   ],
   "source": [
    "data2=pd.read_csv(\"EP_E2_sig.csv\")\n",
    "data2[\"conm_x\"].loc[(data2[\"shift\"]==\"E3\") & (data2[\"fyear\"] < 2010)].nunique()"
   ]
  },
  {
   "cell_type": "code",
   "execution_count": 12,
   "metadata": {},
   "outputs": [
    {
     "output_type": "execute_result",
     "data": {
      "text/plain": [
       "8306"
      ]
     },
     "metadata": {},
     "execution_count": 12
    }
   ],
   "source": [
    "data3=pd.read_csv(\"EP_E3_sig.csv\")\n",
    "data3[\"conm_x\"].loc[(data3[\"shift\"]==\"E3\") & (data3[\"fyear\"] < 2010)].nunique()"
   ]
  },
  {
   "cell_type": "code",
   "execution_count": 16,
   "metadata": {},
   "outputs": [
    {
     "output_type": "execute_result",
     "data": {
      "text/plain": [
       "8272"
      ]
     },
     "metadata": {},
     "execution_count": 16
    }
   ],
   "source": [
    "data4=pd.read_csv(\"EP_E4_sig.csv\")\n",
    "data4[\"conm_x\"].loc[(data4[\"shift\"]==\"E3\") & (data4[\"fyear\"] < 2010)].nunique()"
   ]
  },
  {
   "cell_type": "code",
   "execution_count": 22,
   "metadata": {},
   "outputs": [
    {
     "output_type": "execute_result",
     "data": {
      "text/plain": [
       "7600"
      ]
     },
     "metadata": {},
     "execution_count": 22
    }
   ],
   "source": [
    "data5=pd.read_csv(\"HVZ_E1_sig.csv\")\n",
    "data5[\"conm_x\"].loc[(data5[\"shift\"]==\"E3\") & (data5[\"fyear\"] < 2010)].nunique()"
   ]
  },
  {
   "cell_type": "code",
   "execution_count": 25,
   "metadata": {},
   "outputs": [
    {
     "output_type": "execute_result",
     "data": {
      "text/plain": [
       "6959"
      ]
     },
     "metadata": {},
     "execution_count": 25
    }
   ],
   "source": [
    "data6=pd.read_csv(\"HVZ_E2_sig.csv\")\n",
    "data6[\"conm_x\"].loc[(data6[\"shift\"]==\"E3\") & (data6[\"fyear\"] < 2010)].nunique()"
   ]
  },
  {
   "cell_type": "code",
   "execution_count": 2,
   "metadata": {},
   "outputs": [
    {
     "output_type": "execute_result",
     "data": {
      "text/plain": [
       "8437"
      ]
     },
     "metadata": {},
     "execution_count": 2
    }
   ],
   "source": [
    "data7=pd.read_csv(\"HVZ_E3_sig.csv\")\n",
    "data7[\"conm_x\"].loc[(data7[\"shift\"]==\"E2\") & (data7[\"fyear\"] < 2010)].nunique()"
   ]
  },
  {
   "cell_type": "code",
   "execution_count": 28,
   "metadata": {},
   "outputs": [
    {
     "output_type": "execute_result",
     "data": {
      "text/plain": [
       "7421"
      ]
     },
     "metadata": {},
     "execution_count": 28
    }
   ],
   "source": [
    "data8=pd.read_csv(\"HVZ_E4_sig.csv\")\n",
    "data8[\"conm_x\"].loc[(data8[\"shift\"]==\"E3\") & (data8[\"fyear\"] < 2010)].nunique()"
   ]
  },
  {
   "cell_type": "code",
   "execution_count": 31,
   "metadata": {},
   "outputs": [
    {
     "output_type": "execute_result",
     "data": {
      "text/plain": [
       "7610"
      ]
     },
     "metadata": {},
     "execution_count": 31
    }
   ],
   "source": [
    "data9=pd.read_csv(\"RI_E1_sig.csv\")\n",
    "data9[\"conm_x\"].loc[(data9[\"shift\"]==\"E3\") & (data9[\"fyear\"] < 2010)].nunique()"
   ]
  },
  {
   "cell_type": "code",
   "execution_count": 34,
   "metadata": {},
   "outputs": [
    {
     "output_type": "execute_result",
     "data": {
      "text/plain": [
       "6974"
      ]
     },
     "metadata": {},
     "execution_count": 34
    }
   ],
   "source": [
    "data10=pd.read_csv(\"RI_E2_sig.csv\")\n",
    "data10[\"conm_x\"].loc[(data10[\"shift\"]==\"E3\") & (data10[\"fyear\"] < 2010)].nunique()"
   ]
  },
  {
   "cell_type": "code",
   "execution_count": 40,
   "metadata": {},
   "outputs": [
    {
     "output_type": "execute_result",
     "data": {
      "text/plain": [
       "7463"
      ]
     },
     "metadata": {},
     "execution_count": 40
    }
   ],
   "source": [
    "data11=pd.read_csv(\"RI_E3_sig.csv\")\n",
    "data11[\"conm_x\"].loc[(data11[\"shift\"]==\"E3\") & (data11[\"fyear\"] < 2010)].nunique()"
   ]
  },
  {
   "cell_type": "code",
   "execution_count": 44,
   "metadata": {},
   "outputs": [
    {
     "output_type": "execute_result",
     "data": {
      "text/plain": [
       "7432"
      ]
     },
     "metadata": {},
     "execution_count": 44
    }
   ],
   "source": [
    "data12=pd.read_csv(\"RI_E4_sig.csv\")\n",
    "data12[\"conm_x\"].loc[(data12[\"shift\"]==\"E3\") & (data12[\"fyear\"] < 2010)].nunique()"
   ]
  },
  {
   "source": [
    "forecast accuracy和forecast bias"
   ],
   "cell_type": "markdown",
   "metadata": {}
  },
  {
   "cell_type": "code",
   "execution_count": null,
   "metadata": {},
   "outputs": [],
   "source": [
    "data[\"HVZ_E2_FB\"]=(data[\"HVZ_E2_earnings\"]-data[\"HVZ_E2_prediction\"])/data[\"HVZ_E2_prccm\"]"
   ]
  },
  {
   "cell_type": "code",
   "execution_count": null,
   "metadata": {},
   "outputs": [],
   "source": [
    "data[\"HVZ_E2_FA\"]=abs(data[\"HVZ_E2_FB\"])"
   ]
  },
  {
   "cell_type": "code",
   "execution_count": null,
   "metadata": {},
   "outputs": [],
   "source": [
    "#data[\"FB\"]=data[\"HVZ-RI\"]"
   ]
  },
  {
   "cell_type": "code",
   "execution_count": 291,
   "metadata": {},
   "outputs": [],
   "source": [
    "#data[\"FA\"]=abs(data[\"FB\"])"
   ]
  },
  {
   "cell_type": "raw",
   "metadata": {},
   "source": [
    "data[\"FB\"]=(data[\"HVZ\"]-data[\"RI\"]) * data[\"cshoq\"]/data[\"marketcap\"]"
   ]
  },
  {
   "cell_type": "raw",
   "metadata": {},
   "source": [
    "data[\"FB\"]=(data[\"HVZ\"]-data[\"EP\"]) * data[\"cshoq\"]/data[\"marketcap\"]"
   ]
  },
  {
   "cell_type": "code",
   "execution_count": 292,
   "metadata": {},
   "outputs": [],
   "source": [
    "#data[\"FB\"]=(data[\"earnings\"]-data[\"prediction\"])"
   ]
  },
  {
   "cell_type": "code",
   "execution_count": 293,
   "metadata": {},
   "outputs": [],
   "source": [
    "#data[\"FA\"]=abs(data[\"FB\"])"
   ]
  },
  {
   "cell_type": "code",
   "execution_count": 294,
   "metadata": {},
   "outputs": [],
   "source": [
    "#data[\"FB\"]=(data[\"earnings\"]-data[\"prediction\"]) /data[\"prccm\"]"
   ]
  },
  {
   "cell_type": "code",
   "execution_count": 295,
   "metadata": {},
   "outputs": [],
   "source": [
    "#data[\"FA\"]=abs(data[\"FB\"]) #accuracy"
   ]
  },
  {
   "cell_type": "code",
   "execution_count": 3,
   "metadata": {},
   "outputs": [
    {
     "data": {
      "text/html": [
       "<div>\n",
       "<style scoped>\n",
       "    .dataframe tbody tr th:only-of-type {\n",
       "        vertical-align: middle;\n",
       "    }\n",
       "\n",
       "    .dataframe tbody tr th {\n",
       "        vertical-align: top;\n",
       "    }\n",
       "\n",
       "    .dataframe thead th {\n",
       "        text-align: right;\n",
       "    }\n",
       "</style>\n",
       "<table border=\"1\" class=\"dataframe\">\n",
       "  <thead>\n",
       "    <tr style=\"text-align: right;\">\n",
       "      <th></th>\n",
       "      <th>shift</th>\n",
       "      <th>fyear</th>\n",
       "      <th>conm_x</th>\n",
       "      <th>HVZ_E4_prediction</th>\n",
       "      <th>HVZ_E4_earnings</th>\n",
       "      <th>HVZ_E4_marketcap</th>\n",
       "      <th>HVZ_E4_prccm</th>\n",
       "    </tr>\n",
       "  </thead>\n",
       "  <tbody>\n",
       "    <tr>\n",
       "      <th>0</th>\n",
       "      <td>E1</td>\n",
       "      <td>1980.0</td>\n",
       "      <td>3M CO</td>\n",
       "      <td>5.279969</td>\n",
       "      <td>5.78</td>\n",
       "      <td>6235.865625</td>\n",
       "      <td>53.125</td>\n",
       "    </tr>\n",
       "    <tr>\n",
       "      <th>1</th>\n",
       "      <td>E1</td>\n",
       "      <td>1980.0</td>\n",
       "      <td>7-ELEVEN INC</td>\n",
       "      <td>3.017896</td>\n",
       "      <td>3.19</td>\n",
       "      <td>470.659500</td>\n",
       "      <td>20.500</td>\n",
       "    </tr>\n",
       "    <tr>\n",
       "      <th>2</th>\n",
       "      <td>E1</td>\n",
       "      <td>1980.0</td>\n",
       "      <td>AAR CORP</td>\n",
       "      <td>1.547452</td>\n",
       "      <td>1.41</td>\n",
       "      <td>22.686125</td>\n",
       "      <td>9.625</td>\n",
       "    </tr>\n",
       "    <tr>\n",
       "      <th>3</th>\n",
       "      <td>E1</td>\n",
       "      <td>1980.0</td>\n",
       "      <td>ABBOTT LABORATORIES</td>\n",
       "      <td>2.824963</td>\n",
       "      <td>3.46</td>\n",
       "      <td>2538.536750</td>\n",
       "      <td>42.125</td>\n",
       "    </tr>\n",
       "    <tr>\n",
       "      <th>4</th>\n",
       "      <td>E1</td>\n",
       "      <td>1980.0</td>\n",
       "      <td>ABM INDUSTRIES INC</td>\n",
       "      <td>2.135365</td>\n",
       "      <td>2.46</td>\n",
       "      <td>28.103250</td>\n",
       "      <td>13.250</td>\n",
       "    </tr>\n",
       "  </tbody>\n",
       "</table>\n",
       "</div>"
      ],
      "text/plain": [
       "  shift   fyear               conm_x  HVZ_E4_prediction  HVZ_E4_earnings  \\\n",
       "0    E1  1980.0                3M CO           5.279969             5.78   \n",
       "1    E1  1980.0         7-ELEVEN INC           3.017896             3.19   \n",
       "2    E1  1980.0             AAR CORP           1.547452             1.41   \n",
       "3    E1  1980.0  ABBOTT LABORATORIES           2.824963             3.46   \n",
       "4    E1  1980.0   ABM INDUSTRIES INC           2.135365             2.46   \n",
       "\n",
       "   HVZ_E4_marketcap  HVZ_E4_prccm  \n",
       "0       6235.865625        53.125  \n",
       "1        470.659500        20.500  \n",
       "2         22.686125         9.625  \n",
       "3       2538.536750        42.125  \n",
       "4         28.103250        13.250  "
      ]
     },
     "execution_count": 3,
     "metadata": {},
     "output_type": "execute_result"
    }
   ],
   "source": [
    "data.head()"
   ]
  },
  {
   "cell_type": "code",
   "execution_count": 6,
   "metadata": {},
   "outputs": [],
   "source": [
    "data1=data[data['shift'] == \"E1\"]"
   ]
  },
  {
   "cell_type": "code",
   "execution_count": 5,
   "metadata": {},
   "outputs": [],
   "source": [
    "data[\"prediction\"]=data[\"HVZ_E4_prediction\"]/data[\"HVZ_E4_prccm\"]"
   ]
  },
  {
   "cell_type": "code",
   "execution_count": 7,
   "metadata": {},
   "outputs": [
    {
     "data": {
      "text/plain": [
       "count    87043.000000\n",
       "mean        -0.001204\n",
       "std          0.294540\n",
       "min        -15.601798\n",
       "25%          0.007938\n",
       "50%          0.038563\n",
       "75%          0.066690\n",
       "max          5.588822\n",
       "Name: prediction, dtype: float64"
      ]
     },
     "execution_count": 7,
     "metadata": {},
     "output_type": "execute_result"
    }
   ],
   "source": [
    "data1[\"prediction\"].describe()"
   ]
  },
  {
   "cell_type": "code",
   "execution_count": 8,
   "metadata": {},
   "outputs": [],
   "source": [
    "data2=data[data['shift'] == \"E2\"]"
   ]
  },
  {
   "cell_type": "code",
   "execution_count": 9,
   "metadata": {},
   "outputs": [
    {
     "data": {
      "text/plain": [
       "count    75941.000000\n",
       "mean         0.014570\n",
       "std          0.210280\n",
       "min        -11.044723\n",
       "25%          0.008660\n",
       "50%          0.033612\n",
       "75%          0.062042\n",
       "max          6.146030\n",
       "Name: prediction, dtype: float64"
      ]
     },
     "execution_count": 9,
     "metadata": {},
     "output_type": "execute_result"
    }
   ],
   "source": [
    "data2[\"prediction\"].describe()"
   ]
  },
  {
   "cell_type": "code",
   "execution_count": 10,
   "metadata": {},
   "outputs": [],
   "source": [
    "data3=data[data['shift'] == \"E3\"]"
   ]
  },
  {
   "cell_type": "code",
   "execution_count": 11,
   "metadata": {},
   "outputs": [
    {
     "data": {
      "text/plain": [
       "count    66274.000000\n",
       "mean         0.016636\n",
       "std          0.181139\n",
       "min         -9.569144\n",
       "25%          0.006286\n",
       "50%          0.028319\n",
       "75%          0.056378\n",
       "max          7.984794\n",
       "Name: prediction, dtype: float64"
      ]
     },
     "execution_count": 11,
     "metadata": {},
     "output_type": "execute_result"
    }
   ],
   "source": [
    "data3[\"prediction\"].describe()"
   ]
  },
  {
   "cell_type": "code",
   "execution_count": 260,
   "metadata": {},
   "outputs": [],
   "source": [
    "import statsmodels.api as sm\n",
    "import statsmodels.formula.api as smf"
   ]
  },
  {
   "cell_type": "code",
   "execution_count": 261,
   "metadata": {},
   "outputs": [],
   "source": [
    "lag=1"
   ]
  },
  {
   "cell_type": "code",
   "execution_count": 262,
   "metadata": {},
   "outputs": [
    {
     "name": "stdout",
     "output_type": "stream",
     "text": [
      "                            OLS Regression Results                            \n",
      "==============================================================================\n",
      "Dep. Variable:                     FB   R-squared:                       0.000\n",
      "Model:                            OLS   Adj. R-squared:                  0.000\n",
      "Method:                 Least Squares   F-statistic:                       nan\n",
      "Date:                Thu, 13 May 2021   Prob (F-statistic):                nan\n",
      "Time:                        22:06:05   Log-Likelihood:            -2.2874e+05\n",
      "No. Observations:               69415   AIC:                         4.575e+05\n",
      "Df Residuals:                   69414   BIC:                         4.575e+05\n",
      "Df Model:                           0                                         \n",
      "Covariance Type:                  HAC                                         \n",
      "==============================================================================\n",
      "                 coef    std err          z      P>|z|      [0.025      0.975]\n",
      "------------------------------------------------------------------------------\n",
      "Intercept     -0.0837      0.025     -3.375      0.001      -0.132      -0.035\n",
      "==============================================================================\n",
      "Omnibus:                   347842.596   Durbin-Watson:                   1.997\n",
      "Prob(Omnibus):                  0.000   Jarque-Bera (JB):    8136460814856.129\n",
      "Skew:                        -217.601   Prob(JB):                         0.00\n",
      "Kurtosis:                   53040.385   Cond. No.                         1.00\n",
      "==============================================================================\n",
      "\n",
      "Notes:\n",
      "[1] Standard Errors are heteroscedasticity and autocorrelation robust (HAC) using 1 lags and without small sample correction\n"
     ]
    }
   ],
   "source": [
    "model = smf.ols(formula='FB ~ 1', data=data3).fit(cov_type='HAC',cov_kwds={'maxlags':lag})\n",
    "print(model.summary())"
   ]
  },
  {
   "cell_type": "code",
   "execution_count": 263,
   "metadata": {},
   "outputs": [
    {
     "name": "stdout",
     "output_type": "stream",
     "text": [
      "                            OLS Regression Results                            \n",
      "==============================================================================\n",
      "Dep. Variable:                     FA   R-squared:                      -0.000\n",
      "Model:                            OLS   Adj. R-squared:                 -0.000\n",
      "Method:                 Least Squares   F-statistic:                       nan\n",
      "Date:                Thu, 13 May 2021   Prob (F-statistic):                nan\n",
      "Time:                        22:06:05   Log-Likelihood:            -2.2867e+05\n",
      "No. Observations:               69415   AIC:                         4.573e+05\n",
      "Df Residuals:                   69414   BIC:                         4.573e+05\n",
      "Df Model:                           0                                         \n",
      "Covariance Type:                  HAC                                         \n",
      "==============================================================================\n",
      "                 coef    std err          z      P>|z|      [0.025      0.975]\n",
      "------------------------------------------------------------------------------\n",
      "Intercept      0.3054      0.025     12.331      0.000       0.257       0.354\n",
      "==============================================================================\n",
      "Omnibus:                   348140.838   Durbin-Watson:                   1.998\n",
      "Prob(Omnibus):                  0.000   Jarque-Bera (JB):    8193527496830.192\n",
      "Skew:                         218.265   Prob(JB):                         0.00\n",
      "Kurtosis:                   53226.056   Cond. No.                         1.00\n",
      "==============================================================================\n",
      "\n",
      "Notes:\n",
      "[1] Standard Errors are heteroscedasticity and autocorrelation robust (HAC) using 1 lags and without small sample correction\n"
     ]
    }
   ],
   "source": [
    "model = smf.ols(formula='FA ~ 1', data=data3).fit(cov_type='HAC',cov_kwds={'maxlags':lag})\n",
    "print(model.summary())"
   ]
  },
  {
   "cell_type": "raw",
   "metadata": {},
   "source": [
    "model = smf.ols(formula='FB ~ 1', data=data1).fit(cov_type='HAC',cov_kwds={'maxlags':lag})\n",
    "print(model.summary())"
   ]
  },
  {
   "cell_type": "raw",
   "metadata": {},
   "source": [
    "model = smf.ols(formula='FA ~ 1', data=data1).fit(cov_type='HAC',cov_kwds={'maxlags':lag})\n",
    "print(model.summary())"
   ]
  },
  {
   "cell_type": "code",
   "execution_count": null,
   "metadata": {},
   "outputs": [],
   "source": []
  },
  {
   "cell_type": "code",
   "execution_count": null,
   "metadata": {},
   "outputs": [],
   "source": []
  }
 ],
 "metadata": {
  "kernelspec": {
   "name": "python391jvsc74a57bd038740d3277777e2cd7c6c2cc9d8addf5118fdf3f82b1b39231fd12aeac8aee8b",
   "display_name": "Python 3.9.1 64-bit"
  },
  "language_info": {
   "codemirror_mode": {
    "name": "ipython",
    "version": 3
   },
   "file_extension": ".py",
   "mimetype": "text/x-python",
   "name": "python",
   "nbconvert_exporter": "python",
   "pygments_lexer": "ipython3",
   "version": "3.9.1"
  },
  "metadata": {
   "interpreter": {
    "hash": "38740d3277777e2cd7c6c2cc9d8addf5118fdf3f82b1b39231fd12aeac8aee8b"
   }
  }
 },
 "nbformat": 4,
 "nbformat_minor": 2
}